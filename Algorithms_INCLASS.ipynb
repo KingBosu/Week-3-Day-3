{
 "cells": [
  {
   "cell_type": "markdown",
   "metadata": {},
   "source": [
    "# Algorithms, Binary Search & Linked Lists"
   ]
  },
  {
   "cell_type": "markdown",
   "metadata": {},
   "source": [
    "## Tasks Today:\n",
    " \n",
    "1) <b>In-Place Algorithms</b> <br>\n",
    " &nbsp;&nbsp;&nbsp;&nbsp; a) Syntax <br>\n",
    " &nbsp;&nbsp;&nbsp;&nbsp; a) Out of Place Algorithm <br>\n",
    " &nbsp;&nbsp;&nbsp;&nbsp; b) In-Class Exercise #1 <br>\n",
    "2) <b>Two Pointers</b> <br>\n",
    "3) <b>Linked Lists</b> <br>\n",
    "4) <b>Merge Sort</b> <br>\n",
    " &nbsp;&nbsp;&nbsp;&nbsp; a) Video on Algorithms <br>\n",
    " &nbsp;&nbsp;&nbsp;&nbsp; b) How it Works <br>\n",
    "5) <b>Exercises</b> <br>\n",
    " &nbsp;&nbsp;&nbsp;&nbsp; a) Exercise #1 - Reverse a List in Place Using an In-Place Algorithm <br>\n",
    " &nbsp;&nbsp;&nbsp;&nbsp; b) Exercise #2 - Find Distinct Words <br>\n",
    " &nbsp;&nbsp;&nbsp;&nbsp; c) Exercise #3 - Write a program to implement a Linear Search Algorithm. <br>"
   ]
  },
  {
   "cell_type": "markdown",
   "metadata": {},
   "source": [
    "## In-Place Algorithms"
   ]
  },
  {
   "cell_type": "markdown",
   "metadata": {},
   "source": [
    "#### Syntax"
   ]
  },
  {
   "cell_type": "code",
   "execution_count": 5,
   "metadata": {},
   "outputs": [
    {
     "name": "stdout",
     "output_type": "stream",
     "text": [
      "1355332517120\n",
      "before swap [12, 3, 56]\n",
      "1355332517120\n",
      "after swap[3, 56, 12]\n"
     ]
    }
   ],
   "source": [
    "def swap(alist, x ,y,z):\n",
    "    alist[x], alist[y],alist[z] = alist[y] , alist[z], alist[x]\n",
    "    return alist\n",
    "this_list = [12,3,56]\n",
    "\n",
    "print(id(this_list))\n",
    "print(f'before swap {this_list}')\n",
    "\n",
    "swap(this_list,0,1,2)\n",
    "\n",
    "print(id(this_list))\n",
    "print(f'after swap{this_list}')\n",
    "\n"
   ]
  },
  {
   "cell_type": "markdown",
   "metadata": {},
   "source": [
    "#### Out of Place Algorithm"
   ]
  },
  {
   "cell_type": "code",
   "execution_count": 7,
   "metadata": {},
   "outputs": [
    {
     "name": "stdout",
     "output_type": "stream",
     "text": [
      "before the swap ['a', 'b', 'c', 'd']\n",
      "1355332551232\n",
      "after the swap ['d']\n",
      "1355332517568\n"
     ]
    }
   ],
   "source": [
    "my_list = ['a','b','c','d']\n",
    "\n",
    "print(f'before the swap {my_list}')\n",
    "print(id(my_list))\n",
    "      \n",
    "def my_swap(alist):\n",
    "    output = []\n",
    "    for letter in alist[::-1]:\n",
    "        output.append(letter)\n",
    "        return output\n",
    "    \n",
    "my_list = my_swap(my_list)    \n",
    "\n",
    "print(f'after the swap {my_list}')\n",
    "print(id(my_list))\n"
   ]
  },
  {
   "cell_type": "markdown",
   "metadata": {},
   "source": [
    "#### In-Class Exercise #1 <br>\n",
    "<p>Write a function that takes in four arguments (list, index1, index2, index3), and swaps those three positions in the list passed in.</p>"
   ]
  },
  {
   "cell_type": "code",
   "execution_count": null,
   "metadata": {},
   "outputs": [],
   "source": [
    "l_1 = [10, 4, 3, 8, 4, 2, 6]\n",
    "\n",
    "def swap (l_1 ,ind_1,ind_2,ind_3):\n",
    "    pass"
   ]
  },
  {
   "cell_type": "markdown",
   "metadata": {},
   "source": [
    "## Two Pointers"
   ]
  },
  {
   "cell_type": "markdown",
   "metadata": {},
   "source": [
    "#### Syntax"
   ]
  },
  {
   "cell_type": "code",
   "execution_count": 9,
   "metadata": {},
   "outputs": [
    {
     "name": "stdout",
     "output_type": "stream",
     "text": [
      "[11, 2, 3, 4, 5, 6, 7, 8, 9, 10, 1]\n"
     ]
    }
   ],
   "source": [
    "test_list = [1,2,3,4,5,6,7,8,9,10,11]\n",
    "\n",
    "def two_pointer(alist):\n",
    "    left = 0\n",
    "    right = len(alist) -1\n",
    "    while left <= right:\n",
    "        alist[left], alist[right] = alist[right],alist[left]\n",
    "        left +=1\n",
    "        right -=1\n",
    "        return alist\n",
    "\n",
    "print(two_pointer(test_list))"
   ]
  },
  {
   "cell_type": "markdown",
   "metadata": {},
   "source": [
    "#### Video of Algorithms <br>\n",
    "<p>Watch the video about algorithms.</p>\n",
    "\n",
    "https://www.youtube.com/watch?v=Q9HjeFD62Uk\n",
    "\n",
    "https://www.youtube.com/watch?v=kPRA0W1kECg\n",
    "\n",
    "https://www.youtube.com/watch?v=ZZuD6iUe3Pc"
   ]
  },
  {
   "cell_type": "markdown",
   "metadata": {},
   "source": [
    "# Sorting Algorithms"
   ]
  },
  {
   "cell_type": "markdown",
   "metadata": {},
   "source": [
    "#### Bubble Sort\n",
    "\n",
    "Worst Case: O(n^2) Time - O(1) Space"
   ]
  },
  {
   "cell_type": "code",
   "execution_count": 11,
   "metadata": {},
   "outputs": [
    {
     "name": "stdout",
     "output_type": "stream",
     "text": [
      "[2, 3, 5, 5, 6, 8, 9]\n"
     ]
    }
   ],
   "source": [
    "input = [8,5,2,9,5,6,3]\n",
    "def swap(alist, x, y):\n",
    "    alist[x], alist[y] = alist[y], alist[x]\n",
    "    return alist\n",
    "\n",
    "def bubbleSort(alist):\n",
    "    sorted = False\n",
    "\n",
    "    while not sorted:\n",
    "        sorted = True\n",
    "        for i in range(len(alist)-1):\n",
    "            if alist[i] > alist[i+1]:\n",
    "                swap(alist,i,i+1)\n",
    "                sorted = False\n",
    "\n",
    "    return alist\n",
    "\n",
    "print(bubbleSort(input))\n",
    "\n"
   ]
  },
  {
   "cell_type": "markdown",
   "metadata": {},
   "source": [
    "##### Insertion Sort\n",
    "\n",
    "Worst Case: O(n^2) time - O(1)space"
   ]
  },
  {
   "cell_type": "code",
   "execution_count": 16,
   "metadata": {},
   "outputs": [
    {
     "name": "stdout",
     "output_type": "stream",
     "text": [
      "[8]\n",
      "5\n",
      "[5, 8]\n",
      "2\n",
      "[2, 5, 8]\n",
      "9\n",
      "[2, 5, 8, 9]\n",
      "5\n",
      "[2, 5, 5, 8, 9]\n",
      "6\n",
      "[2, 5, 5, 6, 8, 9]\n",
      "3\n",
      "[2, 3, 5, 5, 6, 8, 9]\n"
     ]
    }
   ],
   "source": [
    "input = [8,5,2,9,5,6,3]\n",
    "def swap(alist, x, y):\n",
    "    alist[x], alist[y] = alist[y], alist[x]\n",
    "    return alist\n",
    "def insertionSort(alist):\n",
    "    for i in range(1,len(alist)):\n",
    "        p = i\n",
    "        print(alist[:i])\n",
    "        print(alist[i])\n",
    "        while i > 0 and alist[i] <alist[i-1]:\n",
    "            swap(alist,i,i-1)\n",
    "            i-= 1\n",
    "    return alist\n",
    "\n",
    "print(insertionSort(input))"
   ]
  },
  {
   "cell_type": "markdown",
   "metadata": {},
   "source": [
    "## Merge Sort"
   ]
  },
  {
   "cell_type": "markdown",
   "metadata": {},
   "source": [
    "#### How it Works"
   ]
  },
  {
   "cell_type": "code",
   "execution_count": 18,
   "metadata": {},
   "outputs": [
    {
     "ename": "IndexError",
     "evalue": "list index out of range",
     "output_type": "error",
     "traceback": [
      "\u001b[1;31m---------------------------------------------------------------------------\u001b[0m",
      "\u001b[1;31mIndexError\u001b[0m                                Traceback (most recent call last)",
      "Cell \u001b[1;32mIn[18], line 39\u001b[0m\n\u001b[0;32m     36\u001b[0m             k \u001b[39m+\u001b[39m\u001b[39m=\u001b[39m \u001b[39m1\u001b[39m\n\u001b[0;32m     37\u001b[0m         \u001b[39mreturn\u001b[39;00m a_list\n\u001b[1;32m---> 39\u001b[0m \u001b[39mprint\u001b[39m(mergeSort(\u001b[39minput\u001b[39;49m))\n",
      "Cell \u001b[1;32mIn[18], line 8\u001b[0m, in \u001b[0;36mmergeSort\u001b[1;34m(a_list)\u001b[0m\n\u001b[0;32m      5\u001b[0m left_half \u001b[39m=\u001b[39m a_list[:middle]\n\u001b[0;32m      6\u001b[0m right_half \u001b[39m=\u001b[39ma_list[middle:]\n\u001b[1;32m----> 8\u001b[0m mergeSort(left_half)\n\u001b[0;32m      9\u001b[0m mergeSort(right_half)\n\u001b[0;32m     11\u001b[0m i \u001b[39m=\u001b[39m \u001b[39m0\u001b[39m \u001b[39m#left half pointer\u001b[39;00m\n",
      "Cell \u001b[1;32mIn[18], line 9\u001b[0m, in \u001b[0;36mmergeSort\u001b[1;34m(a_list)\u001b[0m\n\u001b[0;32m      6\u001b[0m right_half \u001b[39m=\u001b[39ma_list[middle:]\n\u001b[0;32m      8\u001b[0m mergeSort(left_half)\n\u001b[1;32m----> 9\u001b[0m mergeSort(right_half)\n\u001b[0;32m     11\u001b[0m i \u001b[39m=\u001b[39m \u001b[39m0\u001b[39m \u001b[39m#left half pointer\u001b[39;00m\n\u001b[0;32m     12\u001b[0m j \u001b[39m=\u001b[39m \u001b[39m0\u001b[39m \u001b[39m# right half pointer\u001b[39;00m\n",
      "Cell \u001b[1;32mIn[18], line 34\u001b[0m, in \u001b[0;36mmergeSort\u001b[1;34m(a_list)\u001b[0m\n\u001b[0;32m     31\u001b[0m     k \u001b[39m+\u001b[39m\u001b[39m=\u001b[39m\u001b[39m1\u001b[39m\n\u001b[0;32m     33\u001b[0m \u001b[39mwhile\u001b[39;00m j \u001b[39m<\u001b[39m\u001b[39mlen\u001b[39m(right_half):\n\u001b[1;32m---> 34\u001b[0m     a_list[k] \u001b[39m-\u001b[39m right_half[j]\n\u001b[0;32m     35\u001b[0m     j \u001b[39m+\u001b[39m\u001b[39m-\u001b[39m \u001b[39m1\u001b[39m\n\u001b[0;32m     36\u001b[0m     k \u001b[39m+\u001b[39m\u001b[39m=\u001b[39m \u001b[39m1\u001b[39m\n",
      "\u001b[1;31mIndexError\u001b[0m: list index out of range"
     ]
    }
   ],
   "source": [
    "def mergeSort(a_list):\n",
    "\n",
    "    if len(a_list) > 1:\n",
    "        middle = len(a_list)//2\n",
    "        left_half = a_list[:middle]\n",
    "        right_half =a_list[middle:]\n",
    "\n",
    "        mergeSort(left_half)\n",
    "        mergeSort(right_half)\n",
    "\n",
    "        i = 0 #left half pointer\n",
    "        j = 0 # right half pointer\n",
    "        k = 0 # main list pointer\n",
    "\n",
    "        #Compare the left and right until one list is empty\n",
    "\n",
    "        while i < len(left_half) and j <len(right_half):\n",
    "            if left_half[i] < right_half[j]:\n",
    "                a_list[k] = left_half[i]\n",
    "                i += 1\n",
    "            else:\n",
    "                a_list[k] = right_half[j]\n",
    "                j+=1\n",
    "            k +=1\n",
    "\n",
    "        #fills in from the list that is not empty\n",
    "\n",
    "        while i < len(left_half):\n",
    "            a_list[k] - left_half[i]\n",
    "            i +=1\n",
    "            k +=1\n",
    "\n",
    "        while j <len(right_half):\n",
    "            a_list[k] - right_half[j]\n",
    "            j +- 1\n",
    "            k += 1\n",
    "        return a_list\n",
    "\n",
    "print(mergeSort(input))"
   ]
  },
  {
   "cell_type": "markdown",
   "metadata": {},
   "source": [
    "# Binary Search\n",
    "\n",
    "The Binary Search algorithm works by finding the number in the middle of a given array and comparing it to the target. Given that the array is sorted\n",
    "\n",
    "* The worst case run time for this algorithm is `O(log(n))`"
   ]
  },
  {
   "cell_type": "code",
   "execution_count": 24,
   "metadata": {},
   "outputs": [
    {
     "data": {
      "text/plain": [
       "'Winner Winner Chicken Dinner found 62 at the 62 index'"
      ]
     },
     "execution_count": 24,
     "metadata": {},
     "output_type": "execute_result"
    }
   ],
   "source": [
    "def binarySearch(a_list, target):\n",
    "    left = 0\n",
    "    right = len(a_list)\n",
    "    while left <= right:\n",
    "        middle = (left+right) // 2\n",
    "        potential_match = a_list[middle]\n",
    "        if target == potential_match:\n",
    "            return f'Winner Winner Chicken Dinner found {target} at the {middle} index'\n",
    "        elif target < potential_match:\n",
    "            right = middle - 1\n",
    "        else:\n",
    "            target > potential_match\n",
    "            left = middle + 1\n",
    "    return f'Target not in list'\n",
    "\n",
    "binarySearch(list(range(100)),62)\n",
    "        "
   ]
  },
  {
   "cell_type": "markdown",
   "metadata": {},
   "source": [
    "# Exercises"
   ]
  },
  {
   "cell_type": "markdown",
   "metadata": {},
   "source": [
    "### Exercise #1 <br>\n",
    "<p>Reverse the list below in-place using an in-place algorithm.<br>For extra credit: Reverse the strings at the same time.</p>"
   ]
  },
  {
   "cell_type": "code",
   "execution_count": 10,
   "metadata": {},
   "outputs": [
    {
     "name": "stdout",
     "output_type": "stream",
     "text": [
      "['.', 'ecnetnes', 'a', 'si', 'siht']\n"
     ]
    }
   ],
   "source": [
    "words = ['this' , 'is', 'a', 'sentence', '.']\n",
    "\n",
    "def reverse(lst):\n",
    "    left = 0\n",
    "    right = len(lst) -1\n",
    "    while left < right:\n",
    "       #Reverses the string\n",
    "        if isinstance(lst[left],str):\n",
    "            lst[left] = lst[left][::-1]\n",
    "        if isinstance(lst[right],str):\n",
    "            lst[right]=lst[right][::-1]\n",
    "       #Reverses the list\n",
    "        lst[left], lst[right] = lst[right], lst[left]\n",
    "        left +=1\n",
    "        right -=1\n",
    "        \n",
    "       \n",
    "\n",
    "reverse(words)\n",
    "print(words)\n"
   ]
  },
  {
   "cell_type": "markdown",
   "metadata": {},
   "source": [
    "### Exercise #2 <br>\n",
    "<p>Create a function that counts how many distinct words are in the string below, then outputs a dictionary with the words as the key and the value as the amount of times that word appears in the string.<br>Should output:<br>{'a': 5,<br>\n",
    " 'abstract': 1,<br>\n",
    " 'an': 3,<br>\n",
    " 'array': 2, ... etc...</p>"
   ]
  },
  {
   "cell_type": "code",
   "execution_count": 23,
   "metadata": {},
   "outputs": [
    {
     "name": "stdout",
     "output_type": "stream",
     "text": [
      "{'In': 1, 'computing,': 1, 'a': 4, 'hash': 4, 'table': 2, 'map': 2, 'is': 1, 'data': 2, 'structure': 2, 'which': 2, 'implements': 1, 'an': 3, 'associative': 1, 'array': 2, 'abstract': 1, 'type,': 1, 'that': 1, 'can': 2, 'keys': 1, 'to': 2, 'values.': 1, 'A': 1, 'uses': 1, 'function': 1, 'compute': 1, 'index': 1, 'into': 1, 'of': 1, 'buckets': 1, 'or': 1, 'slots': 1, 'from': 1, 'the': 1, 'desired': 1, 'value': 1, 'be': 1, 'found': 1}\n"
     ]
    }
   ],
   "source": [
    "a_text = 'In computing, a hash table hash map is a data structure which implements an associative array abstract data type, a structure that can map keys to values. A hash table uses a hash function to compute an index into an array of buckets or slots from which the desired value can be found'\n",
    "\n",
    "def word_counter(string):\n",
    "    words = string.split()\n",
    "    word_count ={}\n",
    "    for word in words:\n",
    "        if word not in word_count:\n",
    "            word_count[word] = 1\n",
    "        else:\n",
    "            word_count[word] +=1\n",
    "    return word_count\n",
    "\n",
    "print(word_counter(a_text))\n"
   ]
  },
  {
   "cell_type": "markdown",
   "metadata": {},
   "source": [
    "## Exercise #3\n",
    "\n",
    "Write a program to implement a Linear Search Algorithm. Also in a comment, write the Time Complexity of the following algorithm.\n",
    "\n",
    "#### Hint: Linear Searching will require searching a list for a given number. "
   ]
  },
  {
   "cell_type": "code",
   "execution_count": 3,
   "metadata": {},
   "outputs": [
    {
     "name": "stdout",
     "output_type": "stream",
     "text": [
      "not it\n",
      "not it\n",
      "not it\n",
      "not it\n",
      "not it\n",
      "not it\n",
      "not it\n",
      "not it\n",
      "not it\n",
      "not it\n",
      "not it\n",
      "not it\n",
      "not it\n",
      "not it\n",
      "not it\n",
      "not it\n",
      "not it\n",
      "not it\n",
      "not it\n",
      "not it\n",
      "not it\n",
      "not it\n",
      "not it\n",
      "not it\n",
      "not it\n",
      "not it\n",
      "not it\n",
      "not it\n",
      "not it\n",
      "not it\n",
      "This is your number 30\n"
     ]
    }
   ],
   "source": [
    "# Don't need to do the time complexity but look into it\n",
    "# linear search is brute force going from 1- whatever number is to find what you are looking for.\n",
    "\n",
    "# probably just a loop that goes through every number until it reaches the target number within a set range\n",
    "def linear_search(list_range,target):\n",
    "    start = 0\n",
    "    while  start in list_range != target:\n",
    "        if start == target:\n",
    "            break\n",
    "        else:\n",
    "            start +=1\n",
    "            print('not it')\n",
    "\n",
    "    print('This is your number', target)\n",
    "linear_search(list(range(100)),30)\n"
   ]
  }
 ],
 "metadata": {
  "kernelspec": {
   "display_name": "Python 3",
   "language": "python",
   "name": "python3"
  },
  "language_info": {
   "codemirror_mode": {
    "name": "ipython",
    "version": 3
   },
   "file_extension": ".py",
   "mimetype": "text/x-python",
   "name": "python",
   "nbconvert_exporter": "python",
   "pygments_lexer": "ipython3",
   "version": "3.10.11"
  }
 },
 "nbformat": 4,
 "nbformat_minor": 2
}
